{
 "cells": [
  {
   "cell_type": "code",
   "execution_count": 0,
   "metadata": {
    "colab": {
     "base_uri": "https://localhost:8080/",
     "height": 34
    },
    "colab_type": "code",
    "id": "eo70kQ4gtAoF",
    "outputId": "e6940bb8-7c19-463c-cbff-73fc68360bc4"
   },
   "outputs": [
    {
     "name": "stderr",
     "output_type": "stream",
     "text": [
      "Using TensorFlow backend.\n"
     ]
    }
   ],
   "source": [
    "from keras.utils import np_utils \n",
    "from keras.datasets import mnist \n",
    "from keras.initializers import RandomNormal"
   ]
  },
  {
   "cell_type": "code",
   "execution_count": 0,
   "metadata": {
    "colab": {},
    "colab_type": "code",
    "id": "Yyy4yBpQsyRQ"
   },
   "outputs": [],
   "source": [
    "import matplotlib.pyplot as plt\n",
    "import numpy as np\n",
    "import time\n",
    "import pandas as pd\n",
    "import seaborn as sns\n",
    "\n",
    "import keras\n",
    "from keras.models import Sequential \n",
    "from keras.layers import Dense, Activation,Dropout, Flatten\n",
    "from keras.layers import Conv2D, MaxPooling2D\n",
    "from keras import backend as K\n",
    "\n",
    "from keras.layers.normalization import BatchNormalization\n",
    "from keras.layers import Dropout"
   ]
  },
  {
   "cell_type": "code",
   "execution_count": 0,
   "metadata": {
    "colab": {},
    "colab_type": "code",
    "id": "3cWHmVN7tC3F"
   },
   "outputs": [],
   "source": [
    "def plt_dynamic(x, vy, ty, ax, colors=['b']):\n",
    "    ax.plot(x, vy, 'b', label=\"Validation Loss\")\n",
    "    ax.plot(x, ty, 'r', label=\"Train Loss\")\n",
    "    plt.legend()\n",
    "    plt.grid()\n",
    "    fig.canvas.draw()"
   ]
  },
  {
   "cell_type": "code",
   "execution_count": 0,
   "metadata": {
    "colab": {
     "base_uri": "https://localhost:8080/",
     "height": 51
    },
    "colab_type": "code",
    "id": "9JLga7PGtIZK",
    "outputId": "1e0927e9-e633-4062-9ad1-a92a0cacc653"
   },
   "outputs": [
    {
     "name": "stdout",
     "output_type": "stream",
     "text": [
      "Downloading data from https://s3.amazonaws.com/img-datasets/mnist.npz\n",
      "11493376/11490434 [==============================] - 1s 0us/step\n"
     ]
    }
   ],
   "source": [
    "(x_train, y_train), (x_test, y_test) = mnist.load_data()\n",
    "\n",
    "img_rows = 28\n",
    "img_cols = 28\n",
    "\n",
    "if K.image_data_format() == 'channels_first':\n",
    "    x_train = x_train.reshape(x_train.shape[0], 1, img_rows, img_cols)\n",
    "    x_test = x_test.reshape(x_test.shape[0], 1, img_rows, img_cols)\n",
    "    input_shape = (1, img_rows, img_cols)\n",
    "else:\n",
    "    x_train = x_train.reshape(x_train.shape[0], img_rows, img_cols, 1)\n",
    "    x_test = x_test.reshape(x_test.shape[0], img_rows, img_cols, 1)\n",
    "    input_shape = (img_rows, img_cols, 1)"
   ]
  },
  {
   "cell_type": "code",
   "execution_count": 0,
   "metadata": {
    "colab": {},
    "colab_type": "code",
    "id": "6pC0puSitNKm"
   },
   "outputs": [],
   "source": [
    "x_train = x_train.astype('float32')\n",
    "x_test = x_test.astype('float32')\n",
    "\n",
    "x_train = x_train/255\n",
    "x_test = x_test/255\n",
    "\n",
    "y_train = np_utils.to_categorical(y_train, 10) \n",
    "y_test = np_utils.to_categorical(y_test, 10)"
   ]
  },
  {
   "cell_type": "code",
   "execution_count": 0,
   "metadata": {
    "colab": {},
    "colab_type": "code",
    "id": "oKWcY_ygtR23"
   },
   "outputs": [],
   "source": [
    "batch_size = 128\n",
    "num_classes = 10\n",
    "epochs = 12"
   ]
  },
  {
   "cell_type": "markdown",
   "metadata": {
    "colab_type": "text",
    "id": "z5s4hVmg2P9S"
   },
   "source": [
    "3 Convolutional Layers"
   ]
  },
  {
   "cell_type": "code",
   "execution_count": 0,
   "metadata": {
    "colab": {
     "base_uri": "https://localhost:8080/",
     "height": 748
    },
    "colab_type": "code",
    "id": "VUuq0Cp8tV_q",
    "outputId": "212280d6-1ec7-4268-8f31-5a6f23d21690"
   },
   "outputs": [
    {
     "name": "stdout",
     "output_type": "stream",
     "text": [
      "_________________________________________________________________\n",
      "Layer (type)                 Output Shape              Param #   \n",
      "=================================================================\n",
      "conv2d_36 (Conv2D)           (None, 28, 28, 32)        320       \n",
      "_________________________________________________________________\n",
      "conv2d_37 (Conv2D)           (None, 28, 28, 64)        51264     \n",
      "_________________________________________________________________\n",
      "max_pooling2d_18 (MaxPooling (None, 14, 14, 64)        0         \n",
      "_________________________________________________________________\n",
      "conv2d_38 (Conv2D)           (None, 14, 14, 32)        18464     \n",
      "_________________________________________________________________\n",
      "conv2d_39 (Conv2D)           (None, 14, 14, 64)        51264     \n",
      "_________________________________________________________________\n",
      "max_pooling2d_19 (MaxPooling (None, 5, 5, 64)          0         \n",
      "_________________________________________________________________\n",
      "conv2d_40 (Conv2D)           (None, 5, 5, 32)          18464     \n",
      "_________________________________________________________________\n",
      "conv2d_41 (Conv2D)           (None, 5, 5, 64)          51264     \n",
      "_________________________________________________________________\n",
      "max_pooling2d_20 (MaxPooling (None, 2, 2, 64)          0         \n",
      "_________________________________________________________________\n",
      "dropout_14 (Dropout)         (None, 2, 2, 64)          0         \n",
      "_________________________________________________________________\n",
      "flatten_6 (Flatten)          (None, 256)               0         \n",
      "_________________________________________________________________\n",
      "dense_14 (Dense)             (None, 256)               65792     \n",
      "_________________________________________________________________\n",
      "batch_normalization_7 (Batch (None, 256)               1024      \n",
      "_________________________________________________________________\n",
      "dropout_15 (Dropout)         (None, 256)               0         \n",
      "_________________________________________________________________\n",
      "dense_15 (Dense)             (None, 128)               32896     \n",
      "_________________________________________________________________\n",
      "batch_normalization_8 (Batch (None, 128)               512       \n",
      "_________________________________________________________________\n",
      "dropout_16 (Dropout)         (None, 128)               0         \n",
      "_________________________________________________________________\n",
      "dense_16 (Dense)             (None, 10)                1290      \n",
      "=================================================================\n",
      "Total params: 292,554\n",
      "Trainable params: 291,786\n",
      "Non-trainable params: 768\n",
      "_________________________________________________________________\n"
     ]
    }
   ],
   "source": [
    "model = Sequential()\n",
    "\n",
    "model.add(Conv2D(32, kernel_size=(3, 3),padding='same',activation='relu',input_shape=input_shape))\n",
    "model.add(Conv2D(64,kernel_size = (5,5),padding='same', activation='relu'))\n",
    "model.add(MaxPooling2D(pool_size=(2, 2),padding='same'))\n",
    "\n",
    "model.add(Conv2D(32, kernel_size=(3, 3),padding='same',activation='relu'))\n",
    "model.add(Conv2D(64,kernel_size = (5,5),padding='same', activation='relu'))\n",
    "model.add(MaxPooling2D(pool_size=(3,3),padding='same'))\n",
    "\n",
    "model.add(Conv2D(32, kernel_size=(3, 3),padding='same',activation='relu'))\n",
    "model.add(Conv2D(64,kernel_size = (5,5), padding='same',activation='relu'))\n",
    "model.add(MaxPooling2D(pool_size=(4,4),padding='same'))\n",
    "\n",
    "model.add(Dropout(0.5))\n",
    "\n",
    "model.add(Flatten())\n",
    "\n",
    "model.add(Dense(256, activation='relu'))\n",
    "model.add(BatchNormalization())\n",
    "model.add(Dropout(0.5))\n",
    "\n",
    "model.add(Dense(128, activation='relu'))\n",
    "model.add(BatchNormalization())\n",
    "model.add(Dropout(0.5))\n",
    "\n",
    "model.add(Dense(num_classes, activation='softmax'))\n",
    "\n",
    "model.summary()"
   ]
  },
  {
   "cell_type": "code",
   "execution_count": 0,
   "metadata": {
    "colab": {
     "base_uri": "https://localhost:8080/",
     "height": 442
    },
    "colab_type": "code",
    "id": "oKB8PZfuzfxQ",
    "outputId": "956398f2-c111-46b2-c7c5-44720c24b2d8"
   },
   "outputs": [
    {
     "name": "stdout",
     "output_type": "stream",
     "text": [
      "Train on 60000 samples, validate on 10000 samples\n",
      "Epoch 1/12\n",
      "60000/60000 [==============================] - 672s 11ms/step - loss: 0.6168 - acc: 0.8232 - val_loss: 0.0631 - val_acc: 0.9816\n",
      "Epoch 2/12\n",
      "60000/60000 [==============================] - 663s 11ms/step - loss: 0.0885 - acc: 0.9766 - val_loss: 0.0367 - val_acc: 0.9897\n",
      "Epoch 3/12\n",
      "60000/60000 [==============================] - 662s 11ms/step - loss: 0.0605 - acc: 0.9844 - val_loss: 0.0385 - val_acc: 0.9898\n",
      "Epoch 4/12\n",
      "60000/60000 [==============================] - 659s 11ms/step - loss: 0.0491 - acc: 0.9868 - val_loss: 0.0263 - val_acc: 0.9932\n",
      "Epoch 5/12\n",
      "60000/60000 [==============================] - 659s 11ms/step - loss: 0.0422 - acc: 0.9891 - val_loss: 0.0232 - val_acc: 0.9937\n",
      "Epoch 6/12\n",
      "60000/60000 [==============================] - 657s 11ms/step - loss: 0.0363 - acc: 0.9907 - val_loss: 0.0272 - val_acc: 0.9924\n",
      "Epoch 7/12\n",
      "60000/60000 [==============================] - 647s 11ms/step - loss: 0.0309 - acc: 0.9916 - val_loss: 0.0264 - val_acc: 0.9928\n",
      "Epoch 8/12\n",
      "60000/60000 [==============================] - 644s 11ms/step - loss: 0.0297 - acc: 0.9921 - val_loss: 0.0255 - val_acc: 0.9934\n",
      "Epoch 9/12\n",
      "60000/60000 [==============================] - 646s 11ms/step - loss: 0.0237 - acc: 0.9934 - val_loss: 0.0312 - val_acc: 0.9909\n",
      "Epoch 10/12\n",
      "60000/60000 [==============================] - 652s 11ms/step - loss: 0.0213 - acc: 0.9943 - val_loss: 0.0337 - val_acc: 0.9913\n",
      "Epoch 11/12\n",
      "60000/60000 [==============================] - 660s 11ms/step - loss: 0.0210 - acc: 0.9946 - val_loss: 0.0250 - val_acc: 0.9934\n",
      "Epoch 12/12\n",
      "60000/60000 [==============================] - 659s 11ms/step - loss: 0.0177 - acc: 0.9953 - val_loss: 0.0362 - val_acc: 0.9908\n"
     ]
    }
   ],
   "source": [
    "model.compile(optimizer='adam', loss='categorical_crossentropy', metrics=['accuracy'])\n",
    "history = model.fit(x_train, y_train,batch_size=batch_size,epochs=epochs,verbose=1,validation_data=(x_test, y_test))"
   ]
  },
  {
   "cell_type": "code",
   "execution_count": 0,
   "metadata": {
    "colab": {
     "base_uri": "https://localhost:8080/",
     "height": 51
    },
    "colab_type": "code",
    "id": "2qyzUn51zjsg",
    "outputId": "6f9549e1-5b9f-4ec7-95c5-e41c38650f59"
   },
   "outputs": [
    {
     "name": "stdout",
     "output_type": "stream",
     "text": [
      "Test loss: 0.03619625380380894\n",
      "Test accuracy: 0.9908\n"
     ]
    }
   ],
   "source": [
    "score = model.evaluate(x_test, y_test, verbose=0)\n",
    "print('Test loss:', score[0])\n",
    "print('Test accuracy:', score[1])"
   ]
  },
  {
   "cell_type": "code",
   "execution_count": 0,
   "metadata": {
    "colab": {
     "base_uri": "https://localhost:8080/",
     "height": 361
    },
    "colab_type": "code",
    "id": "UDvvtcZyzkmC",
    "outputId": "ff5ba9ab-f94c-494d-aaf5-e5a881ad9925"
   },
   "outputs": [
    {
     "data": {
      "image/png": "[encoded data removed]",
      "text/plain": [
       "<matplotlib.figure.Figure at 0x7fc6c2948e10>"
      ]
     },
     "metadata": {
      "tags": []
     },
     "output_type": "display_data"
    }
   ],
   "source": [
    "fig,ax = plt.subplots(1,1)\n",
    "ax.set_xlabel('epoch') ; ax.set_ylabel('Categorical Crossentropy Loss')\n",
    "x = list(range(1,epochs+1))\n",
    "vy = history.history['val_loss']\n",
    "ty = history.history['loss']\n",
    "plt_dynamic(x, vy, ty, ax)"
   ]
  },
  {
   "cell_type": "markdown",
   "metadata": {
    "colab_type": "text",
    "id": "H28YqIMezqhX"
   },
   "source": [
    "5 Convolution Layers"
   ]
  },
  {
   "cell_type": "code",
   "execution_count": 0,
   "metadata": {
    "colab": {
     "base_uri": "https://localhost:8080/",
     "height": 952
    },
    "colab_type": "code",
    "id": "KKouHI872n6L",
    "outputId": "f79e6fb2-6839-4240-cad8-b6666d4a1a0d"
   },
   "outputs": [
    {
     "name": "stdout",
     "output_type": "stream",
     "text": [
      "_________________________________________________________________\n",
      "Layer (type)                 Output Shape              Param #   \n",
      "=================================================================\n",
      "conv2d_113 (Conv2D)          (None, 28, 28, 32)        320       \n",
      "_________________________________________________________________\n",
      "conv2d_114 (Conv2D)          (None, 28, 28, 64)        51264     \n",
      "_________________________________________________________________\n",
      "max_pooling2d_54 (MaxPooling (None, 10, 10, 64)        0         \n",
      "_________________________________________________________________\n",
      "conv2d_115 (Conv2D)          (None, 10, 10, 32)        32800     \n",
      "_________________________________________________________________\n",
      "conv2d_116 (Conv2D)          (None, 10, 10, 64)        51264     \n",
      "_________________________________________________________________\n",
      "max_pooling2d_55 (MaxPooling (None, 4, 4, 64)          0         \n",
      "_________________________________________________________________\n",
      "conv2d_117 (Conv2D)          (None, 4, 4, 32)          51232     \n",
      "_________________________________________________________________\n",
      "conv2d_118 (Conv2D)          (None, 4, 4, 64)          73792     \n",
      "_________________________________________________________________\n",
      "max_pooling2d_56 (MaxPooling (None, 2, 2, 64)          0         \n",
      "_________________________________________________________________\n",
      "conv2d_119 (Conv2D)          (None, 2, 2, 32)          32800     \n",
      "_________________________________________________________________\n",
      "conv2d_120 (Conv2D)          (None, 2, 2, 64)          73792     \n",
      "_________________________________________________________________\n",
      "max_pooling2d_57 (MaxPooling (None, 1, 1, 64)          0         \n",
      "_________________________________________________________________\n",
      "conv2d_121 (Conv2D)          (None, 1, 1, 32)          51232     \n",
      "_________________________________________________________________\n",
      "conv2d_122 (Conv2D)          (None, 1, 1, 64)          73792     \n",
      "_________________________________________________________________\n",
      "max_pooling2d_58 (MaxPooling (None, 1, 1, 64)          0         \n",
      "_________________________________________________________________\n",
      "dropout_38 (Dropout)         (None, 1, 1, 64)          0         \n",
      "_________________________________________________________________\n",
      "flatten_14 (Flatten)         (None, 64)                0         \n",
      "_________________________________________________________________\n",
      "dense_38 (Dense)             (None, 256)               16640     \n",
      "_________________________________________________________________\n",
      "batch_normalization_23 (Batc (None, 256)               1024      \n",
      "_________________________________________________________________\n",
      "dropout_39 (Dropout)         (None, 256)               0         \n",
      "_________________________________________________________________\n",
      "dense_39 (Dense)             (None, 256)               65792     \n",
      "_________________________________________________________________\n",
      "batch_normalization_24 (Batc (None, 256)               1024      \n",
      "_________________________________________________________________\n",
      "dropout_40 (Dropout)         (None, 256)               0         \n",
      "_________________________________________________________________\n",
      "dense_40 (Dense)             (None, 10)                2570      \n",
      "=================================================================\n",
      "Total params: 579,338\n",
      "Trainable params: 578,314\n",
      "Non-trainable params: 1,024\n",
      "_________________________________________________________________\n"
     ]
    }
   ],
   "source": [
    "model = Sequential()\n",
    "\n",
    "model.add(Conv2D(32, kernel_size=(3, 3),padding='same',activation='relu',input_shape=input_shape))\n",
    "model.add(Conv2D(64,kernel_size = (5,5),padding = 'same',activation = 'relu'))\n",
    "model.add(MaxPooling2D(pool_size=(3,3),padding='same'))\n",
    "\n",
    "model.add(Conv2D(32, kernel_size=(4,4),padding='same',activation='relu'))\n",
    "model.add(Conv2D(64,kernel_size = (5,5),padding='same', activation='relu'))\n",
    "model.add(MaxPooling2D(pool_size=(3,3),padding='same'))\n",
    "\n",
    "model.add(Conv2D(32, kernel_size=(5,5),padding='same',activation='relu'))\n",
    "model.add(Conv2D(64,kernel_size = (6,6),padding='same', activation='relu'))\n",
    "model.add(MaxPooling2D(pool_size=(3,3),padding='same'))\n",
    "\n",
    "model.add(Conv2D(32, kernel_size=(4,4),padding='same',activation='relu'))\n",
    "model.add(Conv2D(64,kernel_size = (6,6),padding='same', activation='relu'))\n",
    "model.add(MaxPooling2D(pool_size=(3,3),padding='same'))\n",
    "\n",
    "model.add(Conv2D(32, kernel_size=(5,5),padding='same',activation='relu'))\n",
    "model.add(Conv2D(64,kernel_size = (6,6),padding='same', activation='relu'))\n",
    "model.add(MaxPooling2D(pool_size=(3,3),padding='same'))\n",
    "\n",
    "model.add(Dropout(0.5))\n",
    "\n",
    "model.add(Flatten())\n",
    "\n",
    "model.add(Dense(256,activation = 'relu'))\n",
    "model.add(BatchNormalization())\n",
    "model.add(Dropout(0.5))\n",
    "\n",
    "model.add(Dense(256,activation = 'relu'))\n",
    "model.add(BatchNormalization())\n",
    "model.add(Dropout(0.5))\n",
    "\n",
    "model.add(Dense(num_classes, activation='softmax'))\n",
    "\n",
    "model.summary()"
   ]
  },
  {
   "cell_type": "code",
   "execution_count": 0,
   "metadata": {
    "colab": {
     "base_uri": "https://localhost:8080/",
     "height": 442
    },
    "colab_type": "code",
    "id": "hVGVrwm36I3m",
    "outputId": "5a72fb6a-9d0f-4fa9-e165-3f6ca1367db8"
   },
   "outputs": [
    {
     "name": "stdout",
     "output_type": "stream",
     "text": [
      "Train on 60000 samples, validate on 10000 samples\n",
      "Epoch 1/12\n",
      "60000/60000 [==============================] - 604s 10ms/step - loss: 1.4790 - acc: 0.3850 - val_loss: 1.0822 - val_acc: 0.5015\n",
      "Epoch 2/12\n",
      "60000/60000 [==============================] - 602s 10ms/step - loss: 0.5329 - acc: 0.8220 - val_loss: 0.3030 - val_acc: 0.9029\n",
      "Epoch 3/12\n",
      "60000/60000 [==============================] - 602s 10ms/step - loss: 0.2093 - acc: 0.9533 - val_loss: 0.1224 - val_acc: 0.9765\n",
      "Epoch 4/12\n",
      "60000/60000 [==============================] - 604s 10ms/step - loss: 0.1478 - acc: 0.9695 - val_loss: 0.0933 - val_acc: 0.9807\n",
      "Epoch 5/12\n",
      "60000/60000 [==============================] - 602s 10ms/step - loss: 0.1011 - acc: 0.9798 - val_loss: 0.0652 - val_acc: 0.9860\n",
      "Epoch 6/12\n",
      "60000/60000 [==============================] - 602s 10ms/step - loss: 0.0941 - acc: 0.9813 - val_loss: 0.0956 - val_acc: 0.9787\n",
      "Epoch 7/12\n",
      "60000/60000 [==============================] - 601s 10ms/step - loss: 0.0918 - acc: 0.9822 - val_loss: 0.0749 - val_acc: 0.9851\n",
      "Epoch 8/12\n",
      "60000/60000 [==============================] - 600s 10ms/step - loss: 0.0851 - acc: 0.9825 - val_loss: 0.0588 - val_acc: 0.9884\n",
      "Epoch 9/12\n",
      "60000/60000 [==============================] - 598s 10ms/step - loss: 0.0786 - acc: 0.9839 - val_loss: 0.0580 - val_acc: 0.9885\n",
      "Epoch 10/12\n",
      "60000/60000 [==============================] - 601s 10ms/step - loss: 0.0638 - acc: 0.9867 - val_loss: 0.0378 - val_acc: 0.9930\n",
      "Epoch 11/12\n",
      "60000/60000 [==============================] - 610s 10ms/step - loss: 0.0480 - acc: 0.9907 - val_loss: 0.0488 - val_acc: 0.9893\n",
      "Epoch 12/12\n",
      "60000/60000 [==============================] - 608s 10ms/step - loss: 0.0527 - acc: 0.9898 - val_loss: 0.0447 - val_acc: 0.9887\n"
     ]
    }
   ],
   "source": [
    "model.compile(optimizer='adam', loss='categorical_crossentropy', metrics=['accuracy'])\n",
    "history = model.fit(x_train, y_train,batch_size=batch_size,epochs=epochs,verbose=1,validation_data=(x_test, y_test))"
   ]
  },
  {
   "cell_type": "code",
   "execution_count": 0,
   "metadata": {
    "colab": {
     "base_uri": "https://localhost:8080/",
     "height": 51
    },
    "colab_type": "code",
    "id": "ixEhhBbK6iGM",
    "outputId": "2ee13db8-0484-46ea-bb5d-384beb86cfa6"
   },
   "outputs": [
    {
     "name": "stdout",
     "output_type": "stream",
     "text": [
      "Test loss: 0.044668429520819335\n",
      "Test accuracy: 0.9887\n"
     ]
    }
   ],
   "source": [
    "score = model.evaluate(x_test, y_test, verbose=0)\n",
    "print('Test loss:', score[0])\n",
    "print('Test accuracy:', score[1])"
   ]
  },
  {
   "cell_type": "code",
   "execution_count": 0,
   "metadata": {
    "colab": {
     "base_uri": "https://localhost:8080/",
     "height": 361
    },
    "colab_type": "code",
    "id": "7NZ0bSVZ6mCw",
    "outputId": "2168d542-46b3-4b67-bc27-56504681d1ca"
   },
   "outputs": [
    {
     "data": {
      "image/png": "[encoded data removed]",
      "text/plain": [
       "<matplotlib.figure.Figure at 0x7fc6bc796160>"
      ]
     },
     "metadata": {
      "tags": []
     },
     "output_type": "display_data"
    }
   ],
   "source": [
    "fig,ax = plt.subplots(1,1)\n",
    "ax.set_xlabel('epoch') ; ax.set_ylabel('Categorical Crossentropy Loss')\n",
    "x = list(range(1,epochs+1))\n",
    "vy = history.history['val_loss']\n",
    "ty = history.history['loss']\n",
    "plt_dynamic(x, vy, ty, ax)"
   ]
  },
  {
   "cell_type": "markdown",
   "metadata": {
    "colab_type": "text",
    "id": "9hBNTsRM6pA7"
   },
   "source": [
    "7 Convolutional Layers"
   ]
  },
  {
   "cell_type": "code",
   "execution_count": 0,
   "metadata": {
    "colab": {
     "base_uri": "https://localhost:8080/",
     "height": 1360
    },
    "colab_type": "code",
    "id": "FUv4qs0h6-MT",
    "outputId": "7453cb13-eb31-45d7-960a-dd009ac37155"
   },
   "outputs": [
    {
     "name": "stdout",
     "output_type": "stream",
     "text": [
      "_________________________________________________________________\n",
      "Layer (type)                 Output Shape              Param #   \n",
      "=================================================================\n",
      "conv2d_1 (Conv2D)            (None, 28, 28, 32)        320       \n",
      "_________________________________________________________________\n",
      "conv2d_2 (Conv2D)            (None, 28, 28, 64)        51264     \n",
      "_________________________________________________________________\n",
      "max_pooling2d_1 (MaxPooling2 (None, 10, 10, 64)        0         \n",
      "_________________________________________________________________\n",
      "batch_normalization_1 (Batch (None, 10, 10, 64)        256       \n",
      "_________________________________________________________________\n",
      "conv2d_3 (Conv2D)            (None, 10, 10, 32)        32800     \n",
      "_________________________________________________________________\n",
      "conv2d_4 (Conv2D)            (None, 10, 10, 64)        51264     \n",
      "_________________________________________________________________\n",
      "max_pooling2d_2 (MaxPooling2 (None, 3, 3, 64)          0         \n",
      "_________________________________________________________________\n",
      "batch_normalization_2 (Batch (None, 3, 3, 64)          256       \n",
      "_________________________________________________________________\n",
      "conv2d_5 (Conv2D)            (None, 3, 3, 32)          51232     \n",
      "_________________________________________________________________\n",
      "conv2d_6 (Conv2D)            (None, 3, 3, 64)          73792     \n",
      "_________________________________________________________________\n",
      "max_pooling2d_3 (MaxPooling2 (None, 1, 1, 64)          0         \n",
      "_________________________________________________________________\n",
      "batch_normalization_3 (Batch (None, 1, 1, 64)          256       \n",
      "_________________________________________________________________\n",
      "conv2d_7 (Conv2D)            (None, 1, 1, 32)          32800     \n",
      "_________________________________________________________________\n",
      "conv2d_8 (Conv2D)            (None, 1, 1, 64)          73792     \n",
      "_________________________________________________________________\n",
      "max_pooling2d_4 (MaxPooling2 (None, 1, 1, 64)          0         \n",
      "_________________________________________________________________\n",
      "batch_normalization_4 (Batch (None, 1, 1, 64)          256       \n",
      "_________________________________________________________________\n",
      "conv2d_9 (Conv2D)            (None, 1, 1, 32)          51232     \n",
      "_________________________________________________________________\n",
      "conv2d_10 (Conv2D)           (None, 1, 1, 64)          73792     \n",
      "_________________________________________________________________\n",
      "max_pooling2d_5 (MaxPooling2 (None, 1, 1, 64)          0         \n",
      "_________________________________________________________________\n",
      "batch_normalization_5 (Batch (None, 1, 1, 64)          256       \n",
      "_________________________________________________________________\n",
      "conv2d_11 (Conv2D)           (None, 1, 1, 32)          51232     \n",
      "_________________________________________________________________\n",
      "conv2d_12 (Conv2D)           (None, 1, 1, 64)          51264     \n",
      "_________________________________________________________________\n",
      "max_pooling2d_6 (MaxPooling2 (None, 1, 1, 64)          0         \n",
      "_________________________________________________________________\n",
      "batch_normalization_6 (Batch (None, 1, 1, 64)          256       \n",
      "_________________________________________________________________\n",
      "conv2d_13 (Conv2D)           (None, 1, 1, 32)          32800     \n",
      "_________________________________________________________________\n",
      "conv2d_14 (Conv2D)           (None, 1, 1, 64)          100416    \n",
      "_________________________________________________________________\n",
      "max_pooling2d_7 (MaxPooling2 (None, 1, 1, 64)          0         \n",
      "_________________________________________________________________\n",
      "dropout_1 (Dropout)          (None, 1, 1, 64)          0         \n",
      "_________________________________________________________________\n",
      "flatten_1 (Flatten)          (None, 64)                0         \n",
      "_________________________________________________________________\n",
      "dense_1 (Dense)              (None, 256)               16640     \n",
      "_________________________________________________________________\n",
      "batch_normalization_7 (Batch (None, 256)               1024      \n",
      "_________________________________________________________________\n",
      "dropout_2 (Dropout)          (None, 256)               0         \n",
      "_________________________________________________________________\n",
      "dense_2 (Dense)              (None, 256)               65792     \n",
      "_________________________________________________________________\n",
      "batch_normalization_8 (Batch (None, 256)               1024      \n",
      "_________________________________________________________________\n",
      "dropout_3 (Dropout)          (None, 256)               0         \n",
      "_________________________________________________________________\n",
      "dense_3 (Dense)              (None, 10)                2570      \n",
      "=================================================================\n",
      "Total params: 816,586\n",
      "Trainable params: 814,794\n",
      "Non-trainable params: 1,792\n",
      "_________________________________________________________________\n"
     ]
    }
   ],
   "source": [
    "model = Sequential()\n",
    "\n",
    "model.add(Conv2D(32,kernel_size = (3,3),padding = 'same',activation = 'relu',input_shape = input_shape))\n",
    "model.add(Conv2D(64,kernel_size = (5,5),padding = 'same',activation = 'relu'))\n",
    "model.add(MaxPooling2D(pool_size=(3,3),padding='same'))\n",
    "\n",
    "model.add(BatchNormalization())\n",
    "\n",
    "model.add(Conv2D(32, kernel_size=(4,4),padding='same',activation='relu'))\n",
    "model.add(Conv2D(64,kernel_size = (5,5),padding='same', activation='relu'))\n",
    "model.add(MaxPooling2D(pool_size=(4,4),padding='same'))\n",
    "\n",
    "model.add(BatchNormalization())\n",
    "\n",
    "model.add(Conv2D(32, kernel_size=(5,5),padding='same',activation='relu'))\n",
    "model.add(Conv2D(64,kernel_size = (6,6),padding='same', activation='relu'))\n",
    "model.add(MaxPooling2D(pool_size=(5,5),padding='same'))\n",
    "\n",
    "model.add(BatchNormalization())\n",
    "\n",
    "model.add(Conv2D(32, kernel_size=(4,4),padding='same',activation='relu'))\n",
    "model.add(Conv2D(64,kernel_size = (6,6),padding='same', activation='relu'))\n",
    "model.add(MaxPooling2D(pool_size=(6,6),padding='same'))\n",
    "\n",
    "model.add(BatchNormalization())\n",
    "\n",
    "model.add(Conv2D(32, kernel_size=(5,5),padding='same',activation='relu'))\n",
    "model.add(Conv2D(64,kernel_size = (6,6),padding='same', activation='relu'))\n",
    "model.add(MaxPooling2D(pool_size=(3,3),padding='same'))\n",
    "\n",
    "model.add(BatchNormalization())\n",
    "\n",
    "model.add(Conv2D(32, kernel_size=(5,5),padding='same',activation='relu'))\n",
    "model.add(Conv2D(64,kernel_size = (5,5),padding='same', activation='relu'))\n",
    "model.add(MaxPooling2D(pool_size=(4,4),padding='same'))\n",
    "\n",
    "model.add(BatchNormalization())\n",
    "\n",
    "model.add(Conv2D(32, kernel_size=(4,4),padding='same',activation='relu'))\n",
    "model.add(Conv2D(64,kernel_size = (7,7),padding='same', activation='relu'))\n",
    "model.add(MaxPooling2D(pool_size=(5,5),padding='same'))\n",
    "\n",
    "model.add(Dropout(0.5))\n",
    "\n",
    "model.add(Flatten())\n",
    "\n",
    "model.add(Dense(256,activation = 'relu'))\n",
    "model.add(BatchNormalization())\n",
    "model.add(Dropout(0.5))\n",
    "\n",
    "model.add(Dense(256,activation = 'relu'))\n",
    "model.add(BatchNormalization())\n",
    "model.add(Dropout(0.5))\n",
    "\n",
    "model.add(Dense(num_classes, activation='softmax'))\n",
    "\n",
    "model.summary()"
   ]
  },
  {
   "cell_type": "code",
   "execution_count": 0,
   "metadata": {
    "colab": {
     "base_uri": "https://localhost:8080/",
     "height": 442
    },
    "colab_type": "code",
    "id": "NvNGb4X26std",
    "outputId": "b08438d6-769c-4351-ad2a-e0046b3869c9"
   },
   "outputs": [
    {
     "name": "stdout",
     "output_type": "stream",
     "text": [
      "Train on 60000 samples, validate on 10000 samples\n",
      "Epoch 1/12\n",
      "60000/60000 [==============================] - 603s 10ms/step - loss: 0.9687 - acc: 0.6452 - val_loss: 0.5443 - val_acc: 0.8350\n",
      "Epoch 2/12\n",
      "60000/60000 [==============================] - 607s 10ms/step - loss: 0.2516 - acc: 0.9378 - val_loss: 0.1349 - val_acc: 0.9707\n",
      "Epoch 3/12\n",
      "60000/60000 [==============================] - 621s 10ms/step - loss: 0.1385 - acc: 0.9714 - val_loss: 0.1593 - val_acc: 0.9672\n",
      "Epoch 4/12\n",
      "60000/60000 [==============================] - 627s 10ms/step - loss: 0.1065 - acc: 0.9781 - val_loss: 0.0760 - val_acc: 0.9816\n",
      "Epoch 5/12\n",
      "60000/60000 [==============================] - 580s 10ms/step - loss: 0.0860 - acc: 0.9825 - val_loss: 0.0876 - val_acc: 0.9794\n",
      "Epoch 6/12\n",
      "60000/60000 [==============================] - 577s 10ms/step - loss: 0.0791 - acc: 0.9843 - val_loss: 0.1046 - val_acc: 0.9739\n",
      "Epoch 7/12\n",
      "60000/60000 [==============================] - 578s 10ms/step - loss: 0.0708 - acc: 0.9856 - val_loss: 0.0503 - val_acc: 0.9885\n",
      "Epoch 8/12\n",
      "60000/60000 [==============================] - 592s 10ms/step - loss: 0.0661 - acc: 0.9865 - val_loss: 0.0513 - val_acc: 0.9892\n",
      "Epoch 9/12\n",
      "60000/60000 [==============================] - 597s 10ms/step - loss: 0.0619 - acc: 0.9874 - val_loss: 0.0408 - val_acc: 0.9912\n",
      "Epoch 10/12\n",
      "60000/60000 [==============================] - 595s 10ms/step - loss: 0.0608 - acc: 0.9879 - val_loss: 0.0651 - val_acc: 0.9890\n",
      "Epoch 11/12\n",
      "60000/60000 [==============================] - 612s 10ms/step - loss: 0.0512 - acc: 0.9897 - val_loss: 0.0411 - val_acc: 0.9922\n",
      "Epoch 12/12\n",
      "60000/60000 [==============================] - 638s 11ms/step - loss: 0.0481 - acc: 0.9900 - val_loss: 0.0510 - val_acc: 0.9905\n"
     ]
    }
   ],
   "source": [
    "model.compile(optimizer='adam', loss='categorical_crossentropy', metrics=['accuracy'])\n",
    "history = model.fit(x_train, y_train,batch_size=batch_size,epochs=epochs,verbose=1,validation_data=(x_test, y_test)) "
   ]
  },
  {
   "cell_type": "code",
   "execution_count": 0,
   "metadata": {
    "colab": {
     "base_uri": "https://localhost:8080/",
     "height": 51
    },
    "colab_type": "code",
    "id": "J6o6R67Z63KK",
    "outputId": "dfcd57bc-c7b0-49c7-9aa4-af54945b2eff"
   },
   "outputs": [
    {
     "name": "stdout",
     "output_type": "stream",
     "text": [
      "Test loss: 0.05102709092050791\n",
      "Test accuracy: 0.9905\n"
     ]
    }
   ],
   "source": [
    "score = model.evaluate(x_test, y_test, verbose=0)\n",
    "print('Test loss:', score[0])\n",
    "print('Test accuracy:', score[1])"
   ]
  },
  {
   "cell_type": "code",
   "execution_count": 0,
   "metadata": {
    "colab": {
     "base_uri": "https://localhost:8080/",
     "height": 361
    },
    "colab_type": "code",
    "id": "q0v6PJ4768Q_",
    "outputId": "a121c049-a32a-482f-ff52-0294eea993f4"
   },
   "outputs": [
    {
     "data": {
      "image/png": "[encoded data removed]",
      "text/plain": [
       "<matplotlib.figure.Figure at 0x7f66dcb8d2b0>"
      ]
     },
     "metadata": {
      "tags": []
     },
     "output_type": "display_data"
    }
   ],
   "source": [
    "fig,ax = plt.subplots(1,1)\n",
    "ax.set_xlabel('epoch') ; ax.set_ylabel('Categorical Crossentropy Loss')\n",
    "x = list(range(1,epochs+1))\n",
    "vy = history.history['val_loss']\n",
    "ty = history.history['loss']\n",
    "plt_dynamic(x, vy, ty, ax)"
   ]
  }
 ],
 "metadata": {
  "colab": {
   "collapsed_sections": [],
   "name": "CNN_on_MNSIT.ipynb",
   "provenance": [],
   "version": "0.3.2"
  },
  "kernelspec": {
   "display_name": "Python 3",
   "language": "python",
   "name": "python3"
  },
  "language_info": {
   "codemirror_mode": {
    "name": "ipython",
    "version": 3
   },
   "file_extension": ".py",
   "mimetype": "text/x-python",
   "name": "python",
   "nbconvert_exporter": "python",
   "pygments_lexer": "ipython3",
   "version": "3.6.5"
  }
 },
 "nbformat": 4,
 "nbformat_minor": 1
}
